{
  "cells": [
    {
      "cell_type": "markdown",
      "metadata": {
        "id": "view-in-github",
        "colab_type": "text"
      },
      "source": [
        "<a href=\"https://colab.research.google.com/github/mattn12/ENPH353_Team5/blob/master/Competition%20License%20Plate%20CNN.ipynb\" target=\"_parent\"><img src=\"https://colab.research.google.com/assets/colab-badge.svg\" alt=\"Open In Colab\"/></a>"
      ]
    },
    {
      "cell_type": "markdown",
      "metadata": {
        "id": "KSk9aCdYJGL5"
      },
      "source": [
        "# ENPH 353 Lab 5 - Character Recogition\n"
      ]
    },
    {
      "cell_type": "markdown",
      "metadata": {
        "id": "TASHcorgJANo"
      },
      "source": [
        "## Import Packages"
      ]
    },
    {
      "cell_type": "code",
      "execution_count": 2,
      "metadata": {
        "id": "i6RTCDKv1uUN"
      },
      "outputs": [],
      "source": [
        "import string\n",
        "import random\n",
        "from random import randint\n",
        "import cv2\n",
        "import numpy as np\n",
        "import os\n",
        "import math\n",
        "import re\n",
        "\n",
        "from PIL import Image, ImageFont, ImageDraw\n",
        "from collections import Counter\n",
        "from matplotlib import pyplot as plt\n",
        "from google.colab.patches import cv2_imshow\n",
        "\n",
        "from tensorflow.keras import layers\n",
        "from tensorflow.keras import models\n",
        "from tensorflow.keras import optimizers\n",
        "\n",
        "from tensorflow.keras.utils import plot_model\n",
        "from tensorflow.keras import backend\n",
        "\n",
        "from ipywidgets import interact\n",
        "import ipywidgets as ipywidgets\n",
        "\n",
        "from sklearn.metrics import confusion_matrix\n",
        "import pandas as pd\n",
        "import seaborn as sn\n",
        "\n",
        "import pickle\n",
        "import tensorflow as tf\n"
      ]
    },
    {
      "cell_type": "markdown",
      "metadata": {
        "id": "44zu-SGYalEw"
      },
      "source": [
        "## License Plate Generator"
      ]
    },
    {
      "cell_type": "code",
      "execution_count": 3,
      "metadata": {
        "id": "ENidRuKm14S_"
      },
      "outputs": [],
      "source": [
        "# Run this command only once:\n",
        "\n",
        "# makes the output folder /content/pictures/\n",
        "!mkdir pictures"
      ]
    },
    {
      "cell_type": "code",
      "execution_count": 4,
      "metadata": {
        "colab": {
          "base_uri": "https://localhost:8080/"
        },
        "id": "TvR3Yd_0HCOA",
        "outputId": "0791844d-4b88-4607-c298-7ccc56614b96"
      },
      "outputs": [
        {
          "output_type": "stream",
          "name": "stdout",
          "text": [
            "/usr/local/lib/python3.7/dist-packages/gdown/cli.py:131: FutureWarning: Option `--id` was deprecated in version 4.3.1 and will be removed in 5.0. You don't need to pass it anymore to use a file ID.\n",
            "  category=FutureWarning,\n",
            "Downloading...\n",
            "From: https://drive.google.com/uc?id=1Q_FsX2z6DaDCLM91qGZzwvctaW9bN60v\n",
            "To: /content/blank_plate.png\n",
            "100% 144k/144k [00:00<00:00, 33.1MB/s]\n"
          ]
        }
      ],
      "source": [
        "# Run this command only once\n",
        "\n",
        "# Downloads the license plate template to /content/blank_plate.png\n",
        "!gdown --id 1Q_FsX2z6DaDCLM91qGZzwvctaW9bN60v"
      ]
    },
    {
      "cell_type": "code",
      "execution_count": 5,
      "metadata": {
        "id": "4kh3ZKFb1U1F"
      },
      "outputs": [],
      "source": [
        "path = \"/content/\"\n",
        "\n",
        "NUMBER_OF_PLATES = 1000\n",
        "\n",
        "for i in range(0, NUMBER_OF_PLATES):\n",
        "  # Pick two random letters\n",
        "  plate_alpha = \"\"\n",
        "  for _ in range(0, 2):\n",
        "      plate_alpha += (random.choice(string.ascii_uppercase))\n",
        "\n",
        "  # Pick two random numbers\n",
        "  num = randint(0, 99)\n",
        "  plate_num = \"{:02d}\".format(num)\n",
        "    \n",
        "  # Write plate to image\n",
        "  blank_plate = cv2.imread(path+'blank_plate.png')\n",
        "\n",
        "  # Convert into a PIL image (this is so we can use the monospaced fonts)\n",
        "  blank_plate_pil = Image.fromarray(blank_plate)\n",
        "\n",
        "  # Get a drawing context\n",
        "  draw = ImageDraw.Draw(blank_plate_pil)\n",
        "  monospace = ImageFont.truetype(font=\"/usr/share/fonts/truetype/liberation/LiberationMono-Regular.ttf\", \n",
        "                                  size=165)\n",
        "  draw.text(xy=(48, 75),\n",
        "            text=plate_alpha + \" \" + plate_num ,\n",
        "            fill=(255,0,0), font=monospace)\n",
        "\n",
        "  # Convert back to OpenCV image and save\n",
        "  blank_plate = np.array(blank_plate_pil)\n",
        "\n",
        "  # Write license plate to file\n",
        "  cv2.imwrite(os.path.join(path + \"pictures/\", \n",
        "                            \"plate_{}{}.png\".format(plate_alpha,plate_num)),\n",
        "                            blank_plate)"
      ]
    },
    {
      "cell_type": "markdown",
      "metadata": {
        "id": "fMhiYtt7jKvl"
      },
      "source": [
        "## Authorize Google Drive Access"
      ]
    },
    {
      "cell_type": "code",
      "execution_count": 6,
      "metadata": {
        "colab": {
          "base_uri": "https://localhost:8080/"
        },
        "id": "twDd8RNJtmAD",
        "outputId": "71f07eb6-23a6-4141-de83-3e3d6b21b5d6"
      },
      "outputs": [
        {
          "output_type": "stream",
          "name": "stdout",
          "text": [
            "Mounted at /content/drive\n"
          ]
        }
      ],
      "source": [
        "from google.colab import drive\n",
        "drive.mount('/content/drive')"
      ]
    },
    {
      "cell_type": "markdown",
      "metadata": {
        "id": "RzzzJCMrbP03"
      },
      "source": [
        "## Retrieve File Names of Plates\n"
      ]
    },
    {
      "cell_type": "code",
      "execution_count": 7,
      "metadata": {
        "id": "Uz0wwzOPHV58"
      },
      "outputs": [],
      "source": [
        "folder = \"/content/pictures\"\n",
        "labels_raw = !ls \"{folder}\"\n",
        "labels = labels_raw[0].split()\n",
        "#print(labels_raw)"
      ]
    },
    {
      "cell_type": "code",
      "execution_count": 8,
      "metadata": {
        "id": "-huXcG5flJpq"
      },
      "outputs": [],
      "source": [
        "def files_in_folder(folder_path):\n",
        "  '''\n",
        "  Returns a list of strings where each entry is a file in the folder_path.\n",
        "  \n",
        "  Parameters\n",
        "  ----------\n",
        "  \n",
        "  folder_path : str\n",
        "     A string to folder for which the file listing is returned.\n",
        "     \n",
        "  '''\n",
        "  files_A = !ls \"{folder_path}\"\n",
        "  # The files when listed from Google Drive have a particular format. They are\n",
        "  # grouped in sets of 4 and have spaces and tabs as delimiters.\n",
        "  \n",
        "  # Split the string listing sets of 4 files by tab and space and remove any \n",
        "  # empty splits.\n",
        "  files_B = [list(filter(None, re.split('\\t|\\s', files))) for files in files_A]\n",
        "  \n",
        "  # Concatenate all splits into a single sorted list\n",
        "  files_C = []\n",
        "  for element in files_B:\n",
        "    files_C = files_C + element\n",
        "  files_C.sort()\n",
        "  \n",
        "  return files_C"
      ]
    },
    {
      "cell_type": "code",
      "source": [
        "files = files_in_folder(folder)\n",
        "\n",
        "print(files)"
      ],
      "metadata": {
        "colab": {
          "base_uri": "https://localhost:8080/"
        },
        "id": "rcq6Cn8Q-7T2",
        "outputId": "9f9315c7-b0f5-4fb0-ea3e-4f2c26fa97ef"
      },
      "execution_count": 9,
      "outputs": [
        {
          "output_type": "stream",
          "name": "stdout",
          "text": [
            "['plate_AA45.png', 'plate_AA80.png', 'plate_AB43.png', 'plate_AC07.png', 'plate_AC08.png', 'plate_AD32.png', 'plate_AE24.png', 'plate_AE72.png', 'plate_AG16.png', 'plate_AG76.png', 'plate_AI04.png', 'plate_AI70.png', 'plate_AJ57.png', 'plate_AJ79.png', 'plate_AK24.png', 'plate_AL53.png', 'plate_AL72.png', 'plate_AM07.png', 'plate_AM73.png', 'plate_AM90.png', 'plate_AP13.png', 'plate_AP79.png', 'plate_AQ19.png', 'plate_AQ65.png', 'plate_AR11.png', 'plate_AR81.png', 'plate_AS83.png', 'plate_AT22.png', 'plate_AU02.png', 'plate_AU43.png', 'plate_AV14.png', 'plate_AV17.png', 'plate_AX58.png', 'plate_AY60.png', 'plate_AY66.png', 'plate_AZ08.png', 'plate_AZ22.png', 'plate_AZ34.png', 'plate_AZ36.png', 'plate_BA83.png', 'plate_BC27.png', 'plate_BD07.png', 'plate_BE39.png', 'plate_BE62.png', 'plate_BE76.png', 'plate_BF21.png', 'plate_BF34.png', 'plate_BG57.png', 'plate_BH67.png', 'plate_BH86.png', 'plate_BI06.png', 'plate_BJ24.png', 'plate_BJ92.png', 'plate_BJ94.png', 'plate_BK56.png', 'plate_BM36.png', 'plate_BM60.png', 'plate_BM97.png', 'plate_BO28.png', 'plate_BO65.png', 'plate_BP16.png', 'plate_BQ31.png', 'plate_BQ34.png', 'plate_BQ82.png', 'plate_BR59.png', 'plate_BR82.png', 'plate_BS08.png', 'plate_BS71.png', 'plate_BT31.png', 'plate_BT97.png', 'plate_BU39.png', 'plate_BU45.png', 'plate_BU83.png', 'plate_BU96.png', 'plate_BV20.png', 'plate_BV22.png', 'plate_BV25.png', 'plate_BX68.png', 'plate_BX93.png', 'plate_BY22.png', 'plate_CA55.png', 'plate_CA85.png', 'plate_CB74.png', 'plate_CC03.png', 'plate_CC30.png', 'plate_CC49.png', 'plate_CC52.png', 'plate_CD01.png', 'plate_CD56.png', 'plate_CD90.png', 'plate_CF38.png', 'plate_CF83.png', 'plate_CG77.png', 'plate_CG88.png', 'plate_CH20.png', 'plate_CJ28.png', 'plate_CJ69.png', 'plate_CK61.png', 'plate_CM86.png', 'plate_CN09.png', 'plate_CN20.png', 'plate_CN34.png', 'plate_CN40.png', 'plate_CN59.png', 'plate_CO04.png', 'plate_CO14.png', 'plate_CO28.png', 'plate_CP32.png', 'plate_CP58.png', 'plate_CP75.png', 'plate_CR98.png', 'plate_CT27.png', 'plate_CT69.png', 'plate_CT94.png', 'plate_CU52.png', 'plate_CU68.png', 'plate_CV90.png', 'plate_CW18.png', 'plate_CX80.png', 'plate_CY83.png', 'plate_CY95.png', 'plate_CY96.png', 'plate_CZ71.png', 'plate_DA76.png', 'plate_DB23.png', 'plate_DB97.png', 'plate_DD23.png', 'plate_DD35.png', 'plate_DD81.png', 'plate_DD99.png', 'plate_DE33.png', 'plate_DE52.png', 'plate_DE63.png', 'plate_DE85.png', 'plate_DE97.png', 'plate_DF23.png', 'plate_DG67.png', 'plate_DH55.png', 'plate_DI33.png', 'plate_DK12.png', 'plate_DL35.png', 'plate_DL87.png', 'plate_DM76.png', 'plate_DN89.png', 'plate_DO61.png', 'plate_DP30.png', 'plate_DP89.png', 'plate_DQ41.png', 'plate_DR27.png', 'plate_DS29.png', 'plate_DS51.png', 'plate_DU13.png', 'plate_DV37.png', 'plate_DW39.png', 'plate_DX37.png', 'plate_DY76.png', 'plate_EA46.png', 'plate_EC27.png', 'plate_EC57.png', 'plate_EE18.png', 'plate_EE23.png', 'plate_EE75.png', 'plate_EE89.png', 'plate_EE93.png', 'plate_EF07.png', 'plate_EF09.png', 'plate_EF98.png', 'plate_EG21.png', 'plate_EG25.png', 'plate_EG26.png', 'plate_EG85.png', 'plate_EH77.png', 'plate_EH90.png', 'plate_EJ22.png', 'plate_EK04.png', 'plate_EK17.png', 'plate_EK38.png', 'plate_EK57.png', 'plate_EK69.png', 'plate_EK85.png', 'plate_EL50.png', 'plate_EM77.png', 'plate_EN40.png', 'plate_EN42.png', 'plate_EO10.png', 'plate_EO79.png', 'plate_EP32.png', 'plate_EP62.png', 'plate_ER21.png', 'plate_ER47.png', 'plate_ER69.png', 'plate_ES18.png', 'plate_ET24.png', 'plate_ET47.png', 'plate_EU50.png', 'plate_EV61.png', 'plate_EZ49.png', 'plate_EZ78.png', 'plate_FA99.png', 'plate_FB10.png', 'plate_FB50.png', 'plate_FB82.png', 'plate_FC32.png', 'plate_FD39.png', 'plate_FE77.png', 'plate_FE84.png', 'plate_FF57.png', 'plate_FF65.png', 'plate_FH37.png', 'plate_FH48.png', 'plate_FH50.png', 'plate_FI34.png', 'plate_FI41.png', 'plate_FL40.png', 'plate_FL47.png', 'plate_FM20.png', 'plate_FM89.png', 'plate_FN94.png', 'plate_FO00.png', 'plate_FR43.png', 'plate_FS70.png', 'plate_FS82.png', 'plate_FT29.png', 'plate_FT66.png', 'plate_FV19.png', 'plate_FV85.png', 'plate_FV97.png', 'plate_FW41.png', 'plate_FW92.png', 'plate_FW98.png', 'plate_FX01.png', 'plate_FX90.png', 'plate_FY12.png', 'plate_FZ19.png', 'plate_GA01.png', 'plate_GE29.png', 'plate_GE47.png', 'plate_GE56.png', 'plate_GE88.png', 'plate_GF19.png', 'plate_GG50.png', 'plate_GG71.png', 'plate_GH97.png', 'plate_GI16.png', 'plate_GI29.png', 'plate_GI75.png', 'plate_GI94.png', 'plate_GK31.png', 'plate_GK44.png', 'plate_GL31.png', 'plate_GL32.png', 'plate_GM09.png', 'plate_GM98.png', 'plate_GN13.png', 'plate_GN90.png', 'plate_GO15.png', 'plate_GO19.png', 'plate_GQ37.png', 'plate_GQ68.png', 'plate_GR47.png', 'plate_GR73.png', 'plate_GS13.png', 'plate_GS69.png', 'plate_GT59.png', 'plate_GU44.png', 'plate_GV57.png', 'plate_GV96.png', 'plate_GW00.png', 'plate_GW12.png', 'plate_GW29.png', 'plate_GX28.png', 'plate_GY43.png', 'plate_GY64.png', 'plate_GZ48.png', 'plate_GZ59.png', 'plate_HA10.png', 'plate_HA35.png', 'plate_HA48.png', 'plate_HC86.png', 'plate_HD11.png', 'plate_HE65.png', 'plate_HG95.png', 'plate_HH13.png', 'plate_HI22.png', 'plate_HI50.png', 'plate_HK43.png', 'plate_HK48.png', 'plate_HL46.png', 'plate_HL48.png', 'plate_HN92.png', 'plate_HO28.png', 'plate_HO75.png', 'plate_HR09.png', 'plate_HR78.png', 'plate_HT31.png', 'plate_HV02.png', 'plate_HV74.png', 'plate_HV76.png', 'plate_HX43.png', 'plate_HY36.png', 'plate_HY99.png', 'plate_HZ05.png', 'plate_HZ97.png', 'plate_IA74.png', 'plate_IA81.png', 'plate_IE76.png', 'plate_IF12.png', 'plate_IF86.png', 'plate_IG59.png', 'plate_IG64.png', 'plate_IG75.png', 'plate_IG92.png', 'plate_IH67.png', 'plate_IH73.png', 'plate_II04.png', 'plate_II59.png', 'plate_IJ11.png', 'plate_IK18.png', 'plate_IK83.png', 'plate_IL20.png', 'plate_IL30.png', 'plate_IM29.png', 'plate_IO38.png', 'plate_IP38.png', 'plate_IP49.png', 'plate_IP61.png', 'plate_IQ21.png', 'plate_IQ80.png', 'plate_IR27.png', 'plate_IS43.png', 'plate_IS70.png', 'plate_IT15.png', 'plate_IT30.png', 'plate_IT59.png', 'plate_IU31.png', 'plate_IV01.png', 'plate_IV06.png', 'plate_IV43.png', 'plate_IV59.png', 'plate_IV80.png', 'plate_IW64.png', 'plate_IW70.png', 'plate_IX34.png', 'plate_IY77.png', 'plate_IY84.png', 'plate_JA26.png', 'plate_JA37.png', 'plate_JC46.png', 'plate_JD06.png', 'plate_JD34.png', 'plate_JG29.png', 'plate_JG80.png', 'plate_JH08.png', 'plate_JH22.png', 'plate_JH41.png', 'plate_JH64.png', 'plate_JI97.png', 'plate_JJ79.png', 'plate_JK13.png', 'plate_JK18.png', 'plate_JL00.png', 'plate_JL66.png', 'plate_JL71.png', 'plate_JM19.png', 'plate_JM91.png', 'plate_JN71.png', 'plate_JN74.png', 'plate_JN77.png', 'plate_JN78.png', 'plate_JO99.png', 'plate_JP03.png', 'plate_JP11.png', 'plate_JP92.png', 'plate_JP94.png', 'plate_JQ70.png', 'plate_JR80.png', 'plate_JR86.png', 'plate_JS04.png', 'plate_JS58.png', 'plate_JT04.png', 'plate_JT31.png', 'plate_JU45.png', 'plate_JU55.png', 'plate_JV23.png', 'plate_JV32.png', 'plate_JV95.png', 'plate_JW13.png', 'plate_JW61.png', 'plate_JX36.png', 'plate_JY40.png', 'plate_JY68.png', 'plate_JY90.png', 'plate_JY99.png', 'plate_KA53.png', 'plate_KB08.png', 'plate_KB21.png', 'plate_KB47.png', 'plate_KB70.png', 'plate_KB77.png', 'plate_KC09.png', 'plate_KC42.png', 'plate_KD70.png', 'plate_KD81.png', 'plate_KD98.png', 'plate_KE35.png', 'plate_KF58.png', 'plate_KG41.png', 'plate_KG43.png', 'plate_KG91.png', 'plate_KI29.png', 'plate_KI40.png', 'plate_KI85.png', 'plate_KJ57.png', 'plate_KK35.png', 'plate_KL81.png', 'plate_KL93.png', 'plate_KM20.png', 'plate_KN02.png', 'plate_KN03.png', 'plate_KO23.png', 'plate_KP80.png', 'plate_KQ45.png', 'plate_KQ49.png', 'plate_KQ79.png', 'plate_KQ98.png', 'plate_KR75.png', 'plate_KR88.png', 'plate_KU08.png', 'plate_KU29.png', 'plate_KW21.png', 'plate_KW28.png', 'plate_KW68.png', 'plate_KW98.png', 'plate_KX37.png', 'plate_KX58.png', 'plate_KX78.png', 'plate_KY08.png', 'plate_KY65.png', 'plate_KZ30.png', 'plate_LA28.png', 'plate_LA61.png', 'plate_LA83.png', 'plate_LA96.png', 'plate_LB52.png', 'plate_LB67.png', 'plate_LC18.png', 'plate_LC33.png', 'plate_LC70.png', 'plate_LF80.png', 'plate_LG20.png', 'plate_LG39.png', 'plate_LG51.png', 'plate_LG99.png', 'plate_LJ71.png', 'plate_LK30.png', 'plate_LK62.png', 'plate_LL25.png', 'plate_LM47.png', 'plate_LM84.png', 'plate_LN05.png', 'plate_LO20.png', 'plate_LO49.png', 'plate_LO71.png', 'plate_LQ21.png', 'plate_LR10.png', 'plate_LS88.png', 'plate_LT16.png', 'plate_LT76.png', 'plate_LT83.png', 'plate_LT85.png', 'plate_LV33.png', 'plate_LV36.png', 'plate_LW24.png', 'plate_LW43.png', 'plate_LW67.png', 'plate_LX75.png', 'plate_LZ61.png', 'plate_MA42.png', 'plate_MA65.png', 'plate_MB13.png', 'plate_MC07.png', 'plate_MC77.png', 'plate_MC94.png', 'plate_MD65.png', 'plate_MD79.png', 'plate_MG53.png', 'plate_MG63.png', 'plate_MH32.png', 'plate_MH74.png', 'plate_MH91.png', 'plate_MI51.png', 'plate_MI89.png', 'plate_ML22.png', 'plate_ML64.png', 'plate_ML94.png', 'plate_MN06.png', 'plate_MN84.png', 'plate_MO35.png', 'plate_MO58.png', 'plate_MP70.png', 'plate_MP99.png', 'plate_MR30.png', 'plate_MR57.png', 'plate_MT20.png', 'plate_MU02.png', 'plate_MU55.png', 'plate_MW10.png', 'plate_MW78.png', 'plate_MX56.png', 'plate_MY06.png', 'plate_MY14.png', 'plate_MY94.png', 'plate_MZ10.png', 'plate_MZ27.png', 'plate_MZ50.png', 'plate_NA03.png', 'plate_NB42.png', 'plate_NC24.png', 'plate_ND03.png', 'plate_NE14.png', 'plate_NF34.png', 'plate_NG29.png', 'plate_NG30.png', 'plate_NG53.png', 'plate_NH18.png', 'plate_NI00.png', 'plate_NI06.png', 'plate_NI31.png', 'plate_NI79.png', 'plate_NJ16.png', 'plate_NJ36.png', 'plate_NK75.png', 'plate_NN13.png', 'plate_NP26.png', 'plate_NP31.png', 'plate_NP63.png', 'plate_NQ46.png', 'plate_NQ49.png', 'plate_NQ72.png', 'plate_NR16.png', 'plate_NR90.png', 'plate_NR98.png', 'plate_NS73.png', 'plate_NT08.png', 'plate_NT86.png', 'plate_NU38.png', 'plate_NU65.png', 'plate_NU68.png', 'plate_NU90.png', 'plate_NV24.png', 'plate_NW41.png', 'plate_NW42.png', 'plate_NW49.png', 'plate_NZ54.png', 'plate_NZ77.png', 'plate_OA65.png', 'plate_OC92.png', 'plate_OD24.png', 'plate_OD52.png', 'plate_OD84.png', 'plate_OE95.png', 'plate_OE97.png', 'plate_OF69.png', 'plate_OG39.png', 'plate_OI46.png', 'plate_OJ14.png', 'plate_OJ39.png', 'plate_OK57.png', 'plate_OM76.png', 'plate_ON34.png', 'plate_OO12.png', 'plate_OQ18.png', 'plate_OR94.png', 'plate_OS31.png', 'plate_OT37.png', 'plate_OU00.png', 'plate_OV61.png', 'plate_OX12.png', 'plate_OY33.png', 'plate_OY76.png', 'plate_OZ25.png', 'plate_OZ55.png', 'plate_PA20.png', 'plate_PC45.png', 'plate_PD11.png', 'plate_PD19.png', 'plate_PE48.png', 'plate_PE50.png', 'plate_PH24.png', 'plate_PI00.png', 'plate_PI01.png', 'plate_PI54.png', 'plate_PJ85.png', 'plate_PL00.png', 'plate_PM16.png', 'plate_PM84.png', 'plate_PM91.png', 'plate_PO13.png', 'plate_PP35.png', 'plate_PQ03.png', 'plate_PR23.png', 'plate_PR34.png', 'plate_PR37.png', 'plate_PR40.png', 'plate_PS51.png', 'plate_PS71.png', 'plate_PS85.png', 'plate_PT70.png', 'plate_PV54.png', 'plate_PV56.png', 'plate_PW16.png', 'plate_PW78.png', 'plate_PX26.png', 'plate_PY90.png', 'plate_PY91.png', 'plate_QA30.png', 'plate_QB66.png', 'plate_QC87.png', 'plate_QD80.png', 'plate_QD89.png', 'plate_QE48.png', 'plate_QE69.png', 'plate_QE71.png', 'plate_QF24.png', 'plate_QF89.png', 'plate_QG29.png', 'plate_QI07.png', 'plate_QI31.png', 'plate_QJ17.png', 'plate_QJ20.png', 'plate_QK66.png', 'plate_QL02.png', 'plate_QL12.png', 'plate_QL98.png', 'plate_QN02.png', 'plate_QN95.png', 'plate_QO44.png', 'plate_QO75.png', 'plate_QQ19.png', 'plate_QR19.png', 'plate_QR21.png', 'plate_QR93.png', 'plate_QT31.png', 'plate_QT34.png', 'plate_QT35.png', 'plate_QU17.png', 'plate_QU91.png', 'plate_QV36.png', 'plate_QW81.png', 'plate_QX08.png', 'plate_QX22.png', 'plate_QX24.png', 'plate_QX66.png', 'plate_QX74.png', 'plate_QX91.png', 'plate_QY19.png', 'plate_QY27.png', 'plate_QY54.png', 'plate_QZ27.png', 'plate_QZ50.png', 'plate_RA23.png', 'plate_RA31.png', 'plate_RB03.png', 'plate_RB83.png', 'plate_RB88.png', 'plate_RB98.png', 'plate_RD37.png', 'plate_RD44.png', 'plate_RE04.png', 'plate_RE05.png', 'plate_RE13.png', 'plate_RF07.png', 'plate_RG16.png', 'plate_RG63.png', 'plate_RG67.png', 'plate_RH57.png', 'plate_RJ64.png', 'plate_RJ82.png', 'plate_RK65.png', 'plate_RL13.png', 'plate_RL62.png', 'plate_RN05.png', 'plate_RN61.png', 'plate_RN77.png', 'plate_RO37.png', 'plate_RO92.png', 'plate_RP35.png', 'plate_RQ16.png', 'plate_RQ24.png', 'plate_RQ54.png', 'plate_RQ84.png', 'plate_RQ87.png', 'plate_RR81.png', 'plate_RS16.png', 'plate_RS38.png', 'plate_RS69.png', 'plate_RT09.png', 'plate_RT32.png', 'plate_RT99.png', 'plate_RU59.png', 'plate_RV07.png', 'plate_RV53.png', 'plate_RW15.png', 'plate_RX31.png', 'plate_RY09.png', 'plate_RY13.png', 'plate_RZ19.png', 'plate_RZ20.png', 'plate_RZ28.png', 'plate_SB13.png', 'plate_SB67.png', 'plate_SB77.png', 'plate_SC54.png', 'plate_SC66.png', 'plate_SC96.png', 'plate_SD60.png', 'plate_SD74.png', 'plate_SF11.png', 'plate_SF89.png', 'plate_SF95.png', 'plate_SF97.png', 'plate_SG57.png', 'plate_SH45.png', 'plate_SH51.png', 'plate_SI13.png', 'plate_SJ48.png', 'plate_SJ62.png', 'plate_SJ83.png', 'plate_SK39.png', 'plate_SK51.png', 'plate_SL02.png', 'plate_SL87.png', 'plate_SM07.png', 'plate_SO34.png', 'plate_SO41.png', 'plate_SQ18.png', 'plate_SQ90.png', 'plate_SQ96.png', 'plate_SR50.png', 'plate_SS70.png', 'plate_SS83.png', 'plate_ST43.png', 'plate_ST92.png', 'plate_SV37.png', 'plate_SV61.png', 'plate_SW13.png', 'plate_SW22.png', 'plate_SW77.png', 'plate_SY22.png', 'plate_SY86.png', 'plate_TA05.png', 'plate_TA41.png', 'plate_TA49.png', 'plate_TB33.png', 'plate_TC79.png', 'plate_TE05.png', 'plate_TE18.png', 'plate_TE43.png', 'plate_TE51.png', 'plate_TF87.png', 'plate_TG70.png', 'plate_TH72.png', 'plate_TI79.png', 'plate_TK85.png', 'plate_TK86.png', 'plate_TN73.png', 'plate_TO00.png', 'plate_TO18.png', 'plate_TO53.png', 'plate_TQ13.png', 'plate_TQ28.png', 'plate_TQ36.png', 'plate_TS35.png', 'plate_TS44.png', 'plate_TS57.png', 'plate_TV22.png', 'plate_TW73.png', 'plate_TX43.png', 'plate_TX56.png', 'plate_TY17.png', 'plate_TY38.png', 'plate_UA78.png', 'plate_UB04.png', 'plate_UB45.png', 'plate_UB96.png', 'plate_UC32.png', 'plate_UC59.png', 'plate_UD40.png', 'plate_UE08.png', 'plate_UE24.png', 'plate_UE30.png', 'plate_UF04.png', 'plate_UF67.png', 'plate_UG05.png', 'plate_UG72.png', 'plate_UI06.png', 'plate_UI43.png', 'plate_UI91.png', 'plate_UJ44.png', 'plate_UJ55.png', 'plate_UK96.png', 'plate_UL28.png', 'plate_UL32.png', 'plate_UL35.png', 'plate_UQ14.png', 'plate_US08.png', 'plate_UT24.png', 'plate_UT81.png', 'plate_UU45.png', 'plate_UU71.png', 'plate_UW03.png', 'plate_UW83.png', 'plate_UX56.png', 'plate_UX83.png', 'plate_UX86.png', 'plate_UZ47.png', 'plate_VA77.png', 'plate_VA93.png', 'plate_VB02.png', 'plate_VB26.png', 'plate_VB38.png', 'plate_VC77.png', 'plate_VD41.png', 'plate_VD83.png', 'plate_VD84.png', 'plate_VE09.png', 'plate_VF36.png', 'plate_VG19.png', 'plate_VG30.png', 'plate_VI07.png', 'plate_VJ40.png', 'plate_VK60.png', 'plate_VL42.png', 'plate_VN01.png', 'plate_VN25.png', 'plate_VO91.png', 'plate_VO92.png', 'plate_VP54.png', 'plate_VQ79.png', 'plate_VR08.png', 'plate_VR27.png', 'plate_VT33.png', 'plate_VT61.png', 'plate_VV18.png', 'plate_VV25.png', 'plate_VV37.png', 'plate_VV95.png', 'plate_VX55.png', 'plate_VX68.png', 'plate_VX81.png', 'plate_VX98.png', 'plate_VY12.png', 'plate_VZ46.png', 'plate_WB77.png', 'plate_WD53.png', 'plate_WD85.png', 'plate_WE51.png', 'plate_WF43.png', 'plate_WF86.png', 'plate_WG40.png', 'plate_WH41.png', 'plate_WJ22.png', 'plate_WJ41.png', 'plate_WJ64.png', 'plate_WM87.png', 'plate_WM91.png', 'plate_WN32.png', 'plate_WO27.png', 'plate_WO65.png', 'plate_WO88.png', 'plate_WP44.png', 'plate_WP52.png', 'plate_WQ03.png', 'plate_WQ36.png', 'plate_WR37.png', 'plate_WS61.png', 'plate_WS96.png', 'plate_WT70.png', 'plate_WT74.png', 'plate_WU84.png', 'plate_WW95.png', 'plate_WY17.png', 'plate_WY68.png', 'plate_WY98.png', 'plate_WZ34.png', 'plate_WZ74.png', 'plate_XA18.png', 'plate_XA56.png', 'plate_XA94.png', 'plate_XC13.png', 'plate_XD87.png', 'plate_XE30.png', 'plate_XF26.png', 'plate_XH74.png', 'plate_XI81.png', 'plate_XJ19.png', 'plate_XJ98.png', 'plate_XK04.png', 'plate_XK41.png', 'plate_XL63.png', 'plate_XM18.png', 'plate_XM25.png', 'plate_XM35.png', 'plate_XM88.png', 'plate_XN23.png', 'plate_XO01.png', 'plate_XO05.png', 'plate_XO59.png', 'plate_XP57.png', 'plate_XP73.png', 'plate_XR72.png', 'plate_XS26.png', 'plate_XS50.png', 'plate_XU55.png', 'plate_XV22.png', 'plate_XV28.png', 'plate_XV93.png', 'plate_XX29.png', 'plate_XX62.png', 'plate_XZ28.png', 'plate_YA21.png', 'plate_YA35.png', 'plate_YA36.png', 'plate_YA56.png', 'plate_YB81.png', 'plate_YC97.png', 'plate_YE15.png', 'plate_YE28.png', 'plate_YE31.png', 'plate_YE78.png', 'plate_YF78.png', 'plate_YI62.png', 'plate_YJ55.png', 'plate_YJ74.png', 'plate_YK83.png', 'plate_YL02.png', 'plate_YM15.png', 'plate_YM52.png', 'plate_YM82.png', 'plate_YM91.png', 'plate_YN59.png', 'plate_YO17.png', 'plate_YO85.png', 'plate_YQ40.png', 'plate_YQ92.png', 'plate_YQ93.png', 'plate_YQ98.png', 'plate_YR20.png', 'plate_YR77.png', 'plate_YR80.png', 'plate_YS13.png', 'plate_YS18.png', 'plate_YT79.png', 'plate_YV64.png', 'plate_YW03.png', 'plate_YW16.png', 'plate_YX55.png', 'plate_YY71.png', 'plate_YY93.png', 'plate_YZ08.png', 'plate_ZB10.png', 'plate_ZB61.png', 'plate_ZC71.png', 'plate_ZD62.png', 'plate_ZE14.png', 'plate_ZF88.png', 'plate_ZG27.png', 'plate_ZG37.png', 'plate_ZH44.png', 'plate_ZI25.png', 'plate_ZJ84.png', 'plate_ZK27.png', 'plate_ZM24.png', 'plate_ZM35.png', 'plate_ZN91.png', 'plate_ZP99.png', 'plate_ZQ97.png', 'plate_ZS20.png', 'plate_ZT26.png', 'plate_ZT52.png', 'plate_ZT67.png', 'plate_ZT93.png', 'plate_ZU53.png', 'plate_ZU83.png', 'plate_ZV67.png', 'plate_ZV68.png', 'plate_ZX55.png', 'plate_ZX89.png', 'plate_ZY51.png', 'plate_ZZ00.png']\n"
          ]
        }
      ]
    },
    {
      "cell_type": "markdown",
      "source": [
        "## Add noise to images"
      ],
      "metadata": {
        "id": "pCYLrsiXtt95"
      }
    },
    {
      "cell_type": "code",
      "source": [
        "!mkdir noisy"
      ],
      "metadata": {
        "id": "ztPHalC-2Tp5"
      },
      "execution_count": 10,
      "outputs": []
    },
    {
      "cell_type": "code",
      "source": [
        "write_path = \"/content/\"\n",
        "\n",
        "mean = 0\n",
        "sigma = 10\n",
        "height, width, channels = cv2.imread(write_path+'blank_plate.png').shape\n",
        "gaussian_noise = np.random.normal(mean, sigma, (height, width, channels))\n",
        "\n",
        "for plate in files:\n",
        "  #read and crop plate\n",
        "  pic_path = f\"{folder}/{plate}\"\n",
        "  img = cv2.imread(pic_path, cv2.IMREAD_COLOR)\n",
        "  blur = cv2.GaussianBlur(img, (5,5), 0)\n",
        "\n",
        "  # add noise\n",
        "  noise = blur + gaussian_noise\n",
        "\n",
        "  # random range\n",
        "  rr = 10\n",
        "  randint(-rr,rr)\n",
        "\n",
        "  srcPts = [[0, 0], [width, 0], [0, height], [width, height]]\n",
        "  # List the output points in the same order as input\n",
        "  dstPts = [[randint(-rr,rr), randint(-rr,rr)], \n",
        "            [width+randint(-rr,rr), randint(-rr,rr)], \n",
        "            [randint(-rr,rr), height+randint(-rr,rr)], \n",
        "            [width+randint(-rr,rr), height+randint(-rr,rr)]]\n",
        "  # Get the transform\n",
        "  m = cv2.getPerspectiveTransform(np.float32(srcPts), np.float32(dstPts))\n",
        "  # Transform the image\n",
        "  warp = cv2.warpPerspective(noise, m, (int(width), int(height)))\n",
        "\n",
        "  # cv2_imshow(img)\n",
        "  # cv2_imshow(blur)\n",
        "  # cv2_imshow(gaussian_noise)\n",
        "  # cv2_imshow(noise)\n",
        "  # cv2_imshow(warp)\n",
        "\n",
        "  # # Write license plate to file\n",
        "  cv2.imwrite(os.path.join(write_path + \"noisy/\"+pic_path[18:]),warp)"
      ],
      "metadata": {
        "id": "iy4bhY7FttwZ"
      },
      "execution_count": 11,
      "outputs": []
    },
    {
      "cell_type": "code",
      "source": [
        "noisy_folder = \"/content/noisy\"\n",
        "noisy_files = files_in_folder(noisy_folder)"
      ],
      "metadata": {
        "id": "wGSM3DGL6WAw"
      },
      "execution_count": 12,
      "outputs": []
    },
    {
      "cell_type": "markdown",
      "metadata": {
        "id": "goq2l3tFJb0i"
      },
      "source": [
        "## Slice Images"
      ]
    },
    {
      "cell_type": "code",
      "execution_count": 13,
      "metadata": {
        "id": "B47pjcC15Fc0"
      },
      "outputs": [],
      "source": [
        "#cropping settings\n",
        "top = 100\n",
        "bottom = 220\n",
        "left = 47"
      ]
    },
    {
      "cell_type": "code",
      "execution_count": 14,
      "metadata": {
        "id": "xLzTAeoasomQ"
      },
      "outputs": [],
      "source": [
        "value = 0\n",
        "dataset = []\n",
        "\n",
        "for plate in files:\n",
        "  #read and crop plate\n",
        "  path = f\"{noisy_folder}/{plate}\"\n",
        "  img = cv2.imread(path, cv2.IMREAD_COLOR)\n",
        "  img = img[top:bottom,left:]\n",
        "  \n",
        "  allchars = \"ABCDEFGHIJKLMNOPQRSTUVWXYZ0123456789\"\n",
        "\n",
        "  # slice every letter\n",
        "  # path string: /content/noisy/plate_AB29.png\n",
        "  # start at index \n",
        "  letter1 = [img[:,0:100], allchars.find(path[21])]\n",
        "\n",
        "  letter2 = [img[:,100:200], allchars.find(path[22])]\n",
        "               \n",
        "  letter3 = [img[:,300:400], allchars.find(path[23])]\n",
        "\n",
        "  letter4 = [img[:,400:500], allchars.find(path[24])]\n",
        "\n",
        "  dataset.append(letter1)\n",
        "  dataset.append(letter2)\n",
        "  dataset.append(letter3)\n",
        "  dataset.append(letter4)\n"
      ]
    },
    {
      "cell_type": "code",
      "execution_count": 15,
      "metadata": {
        "id": "mXx94JGq69h7"
      },
      "outputs": [],
      "source": [
        "def convert_to_one_hot(Y, C):\n",
        "    Y = np.eye(C)[Y.reshape(-1)].T\n",
        "    return Y"
      ]
    },
    {
      "cell_type": "code",
      "source": [
        "# for y in range(20):\n",
        "#   cv2_imshow(dataset[y][0])\n",
        "#   print(allchars[dataset[y][1]])"
      ],
      "metadata": {
        "id": "zKy0jcMJ9MhD"
      },
      "execution_count": 16,
      "outputs": []
    },
    {
      "cell_type": "markdown",
      "metadata": {
        "id": "gDmRuuTEJiUJ"
      },
      "source": [
        "## Create Datasets for Neural Net"
      ]
    },
    {
      "cell_type": "code",
      "execution_count": 17,
      "metadata": {
        "id": "f-I-GGUYbV2Z"
      },
      "outputs": [],
      "source": [
        "# Shuffle the dataset\n",
        "np.random.shuffle(dataset)\n",
        "\n",
        "# Genereate X and Y datasets\n",
        "X_dataset_orig = np.array([data[0] for data in dataset])\n",
        "Y_dataset_orig = np.array([[data[1]] for data in dataset]).T\n",
        "\n",
        "NUMBER_OF_LABELS = 36\n",
        "CONFIDENCE_THRESHOLD = 0.01\n",
        "\n",
        "# Normalize X (images) dataset\n",
        "X_dataset = X_dataset_orig/255.\n",
        "\n",
        "# Convert Y dataset to one-hot encoding\n",
        "Y_dataset = convert_to_one_hot(Y_dataset_orig, NUMBER_OF_LABELS).T\n",
        "\n"
      ]
    },
    {
      "cell_type": "code",
      "execution_count": 18,
      "metadata": {
        "colab": {
          "base_uri": "https://localhost:8080/"
        },
        "id": "6I3m8PJsuO5c",
        "outputId": "3873a4b2-3ed2-4e3a-a460-bb6ff8a381a5"
      },
      "outputs": [
        {
          "output_type": "stream",
          "name": "stdout",
          "text": [
            "Total examples: 3960\n",
            "Training examples: 3168\n",
            "Test examples: 792\n",
            "X shape: (3960, 120, 100, 3)\n",
            "Y shape: (3960, 36)\n"
          ]
        }
      ],
      "source": [
        "VALIDATION_SPLIT = 0.2\n",
        "\n",
        "print(\"Total examples: {:d}\\nTraining examples: {:d}\\nTest examples: {:d}\".\n",
        "      format(X_dataset.shape[0],\n",
        "             math.ceil(X_dataset.shape[0] * (1-VALIDATION_SPLIT)),\n",
        "             math.floor(X_dataset.shape[0] * VALIDATION_SPLIT)))\n",
        "print(\"X shape: \" + str(X_dataset.shape))\n",
        "print(\"Y shape: \" + str(Y_dataset.shape))"
      ]
    },
    {
      "cell_type": "markdown",
      "metadata": {
        "id": "dDPwBKHaJrK0"
      },
      "source": [
        "## Building Neural Net"
      ]
    },
    {
      "cell_type": "code",
      "execution_count": 19,
      "metadata": {
        "id": "pOGcRKdQxtmQ"
      },
      "outputs": [],
      "source": [
        "def reset_weights(model):\n",
        "  for ix, layer in enumerate(model.layers):\n",
        "      if (hasattr(model.layers[ix], 'kernel_initializer') and \n",
        "          hasattr(model.layers[ix], 'bias_initializer')):\n",
        "          weight_initializer = model.layers[ix].kernel_initializer\n",
        "          bias_initializer = model.layers[ix].bias_initializer\n",
        "\n",
        "          old_weights, old_biases = model.layers[ix].get_weights()\n",
        "\n",
        "          model.layers[ix].set_weights([\n",
        "              weight_initializer(shape=old_weights.shape),\n",
        "              bias_initializer(shape=len(old_biases))])"
      ]
    },
    {
      "cell_type": "code",
      "execution_count": 20,
      "metadata": {
        "id": "eK8ARM9Sxw0g"
      },
      "outputs": [],
      "source": [
        "conv_model = models.Sequential()\n",
        "conv_model.add(layers.Conv2D(32, (3, 3), activation='relu',\n",
        "                             input_shape=(120, 100, 3)))\n",
        "conv_model.add(layers.MaxPooling2D((2, 2)))\n",
        "conv_model.add(layers.Conv2D(64, (3, 3), activation='relu'))\n",
        "conv_model.add(layers.MaxPooling2D((2, 2)))\n",
        "conv_model.add(layers.Flatten())\n",
        "conv_model.add(layers.Dropout(0.5))\n",
        "conv_model.add(layers.Dense(512, activation='relu'))\n",
        "conv_model.add(layers.Dense(36, activation='softmax'))"
      ]
    },
    {
      "cell_type": "code",
      "execution_count": 21,
      "metadata": {
        "id": "g8ZXjTGqx9Z9",
        "colab": {
          "base_uri": "https://localhost:8080/"
        },
        "outputId": "c28cfccf-4346-41b1-e96f-71ea71d98c25"
      },
      "outputs": [
        {
          "output_type": "stream",
          "name": "stdout",
          "text": [
            "Model: \"sequential\"\n",
            "_________________________________________________________________\n",
            " Layer (type)                Output Shape              Param #   \n",
            "=================================================================\n",
            " conv2d (Conv2D)             (None, 118, 98, 32)       896       \n",
            "                                                                 \n",
            " max_pooling2d (MaxPooling2D  (None, 59, 49, 32)       0         \n",
            " )                                                               \n",
            "                                                                 \n",
            " conv2d_1 (Conv2D)           (None, 57, 47, 64)        18496     \n",
            "                                                                 \n",
            " max_pooling2d_1 (MaxPooling  (None, 28, 23, 64)       0         \n",
            " 2D)                                                             \n",
            "                                                                 \n",
            " flatten (Flatten)           (None, 41216)             0         \n",
            "                                                                 \n",
            " dropout (Dropout)           (None, 41216)             0         \n",
            "                                                                 \n",
            " dense (Dense)               (None, 512)               21103104  \n",
            "                                                                 \n",
            " dense_1 (Dense)             (None, 36)                18468     \n",
            "                                                                 \n",
            "=================================================================\n",
            "Total params: 21,140,964\n",
            "Trainable params: 21,140,964\n",
            "Non-trainable params: 0\n",
            "_________________________________________________________________\n"
          ]
        }
      ],
      "source": [
        "conv_model.summary()"
      ]
    },
    {
      "cell_type": "code",
      "execution_count": 22,
      "metadata": {
        "colab": {
          "base_uri": "https://localhost:8080/"
        },
        "id": "OlcDepm1yFHb",
        "outputId": "b3e00976-ab4e-4e5c-b9c0-2f900e454a51"
      },
      "outputs": [
        {
          "output_type": "stream",
          "name": "stderr",
          "text": [
            "/usr/local/lib/python3.7/dist-packages/keras/optimizers/optimizer_v2/rmsprop.py:135: UserWarning: The `lr` argument is deprecated, use `learning_rate` instead.\n",
            "  super(RMSprop, self).__init__(name, **kwargs)\n"
          ]
        }
      ],
      "source": [
        "LEARNING_RATE = 1e-4\n",
        "conv_model.compile(loss='categorical_crossentropy',\n",
        "                   optimizer=optimizers.RMSprop(lr=LEARNING_RATE),\n",
        "                   metrics=['acc'])"
      ]
    },
    {
      "cell_type": "markdown",
      "metadata": {
        "id": "gZAfUXDpJ1Mg"
      },
      "source": [
        "## Reset Weights"
      ]
    },
    {
      "cell_type": "code",
      "execution_count": 23,
      "metadata": {
        "id": "v8t6JzTYyIBG"
      },
      "outputs": [],
      "source": [
        "reset_weights(conv_model)"
      ]
    },
    {
      "cell_type": "markdown",
      "metadata": {
        "id": "8-ntIQXNJ4nP"
      },
      "source": [
        "## Train Neural Net"
      ]
    },
    {
      "cell_type": "code",
      "execution_count": 26,
      "metadata": {
        "id": "OBHCZr3NyLec",
        "colab": {
          "base_uri": "https://localhost:8080/",
          "height": 396
        },
        "outputId": "f2bcd1ec-ffbc-4368-dbcf-420b1a8ec357"
      },
      "outputs": [
        {
          "output_type": "stream",
          "name": "stdout",
          "text": [
            "Epoch 1/50\n",
            " 22/198 [==>...........................] - ETA: 1:37 - loss: 0.0545 - acc: 0.9773"
          ]
        },
        {
          "output_type": "error",
          "ename": "KeyboardInterrupt",
          "evalue": "ignored",
          "traceback": [
            "\u001b[0;31m---------------------------------------------------------------------------\u001b[0m",
            "\u001b[0;31mKeyboardInterrupt\u001b[0m                         Traceback (most recent call last)",
            "\u001b[0;32m<ipython-input-26-0c26e3ffb8f8>\u001b[0m in \u001b[0;36m<module>\u001b[0;34m\u001b[0m\n\u001b[1;32m      2\u001b[0m                               \u001b[0mvalidation_split\u001b[0m\u001b[0;34m=\u001b[0m\u001b[0mVALIDATION_SPLIT\u001b[0m\u001b[0;34m,\u001b[0m\u001b[0;34m\u001b[0m\u001b[0;34m\u001b[0m\u001b[0m\n\u001b[1;32m      3\u001b[0m                               \u001b[0mepochs\u001b[0m\u001b[0;34m=\u001b[0m\u001b[0;36m50\u001b[0m\u001b[0;34m,\u001b[0m\u001b[0;34m\u001b[0m\u001b[0;34m\u001b[0m\u001b[0m\n\u001b[0;32m----> 4\u001b[0;31m                               batch_size=16)\n\u001b[0m",
            "\u001b[0;32m/usr/local/lib/python3.7/dist-packages/keras/utils/traceback_utils.py\u001b[0m in \u001b[0;36merror_handler\u001b[0;34m(*args, **kwargs)\u001b[0m\n\u001b[1;32m     62\u001b[0m     \u001b[0mfiltered_tb\u001b[0m \u001b[0;34m=\u001b[0m \u001b[0;32mNone\u001b[0m\u001b[0;34m\u001b[0m\u001b[0;34m\u001b[0m\u001b[0m\n\u001b[1;32m     63\u001b[0m     \u001b[0;32mtry\u001b[0m\u001b[0;34m:\u001b[0m\u001b[0;34m\u001b[0m\u001b[0;34m\u001b[0m\u001b[0m\n\u001b[0;32m---> 64\u001b[0;31m       \u001b[0;32mreturn\u001b[0m \u001b[0mfn\u001b[0m\u001b[0;34m(\u001b[0m\u001b[0;34m*\u001b[0m\u001b[0margs\u001b[0m\u001b[0;34m,\u001b[0m \u001b[0;34m**\u001b[0m\u001b[0mkwargs\u001b[0m\u001b[0;34m)\u001b[0m\u001b[0;34m\u001b[0m\u001b[0;34m\u001b[0m\u001b[0m\n\u001b[0m\u001b[1;32m     65\u001b[0m     \u001b[0;32mexcept\u001b[0m \u001b[0mException\u001b[0m \u001b[0;32mas\u001b[0m \u001b[0me\u001b[0m\u001b[0;34m:\u001b[0m  \u001b[0;31m# pylint: disable=broad-except\u001b[0m\u001b[0;34m\u001b[0m\u001b[0;34m\u001b[0m\u001b[0m\n\u001b[1;32m     66\u001b[0m       \u001b[0mfiltered_tb\u001b[0m \u001b[0;34m=\u001b[0m \u001b[0m_process_traceback_frames\u001b[0m\u001b[0;34m(\u001b[0m\u001b[0me\u001b[0m\u001b[0;34m.\u001b[0m\u001b[0m__traceback__\u001b[0m\u001b[0;34m)\u001b[0m\u001b[0;34m\u001b[0m\u001b[0;34m\u001b[0m\u001b[0m\n",
            "\u001b[0;32m/usr/local/lib/python3.7/dist-packages/keras/engine/training.py\u001b[0m in \u001b[0;36mfit\u001b[0;34m(self, x, y, batch_size, epochs, verbose, callbacks, validation_split, validation_data, shuffle, class_weight, sample_weight, initial_epoch, steps_per_epoch, validation_steps, validation_batch_size, validation_freq, max_queue_size, workers, use_multiprocessing)\u001b[0m\n\u001b[1;32m   1407\u001b[0m                 _r=1):\n\u001b[1;32m   1408\u001b[0m               \u001b[0mcallbacks\u001b[0m\u001b[0;34m.\u001b[0m\u001b[0mon_train_batch_begin\u001b[0m\u001b[0;34m(\u001b[0m\u001b[0mstep\u001b[0m\u001b[0;34m)\u001b[0m\u001b[0;34m\u001b[0m\u001b[0;34m\u001b[0m\u001b[0m\n\u001b[0;32m-> 1409\u001b[0;31m               \u001b[0mtmp_logs\u001b[0m \u001b[0;34m=\u001b[0m \u001b[0mself\u001b[0m\u001b[0;34m.\u001b[0m\u001b[0mtrain_function\u001b[0m\u001b[0;34m(\u001b[0m\u001b[0miterator\u001b[0m\u001b[0;34m)\u001b[0m\u001b[0;34m\u001b[0m\u001b[0;34m\u001b[0m\u001b[0m\n\u001b[0m\u001b[1;32m   1410\u001b[0m               \u001b[0;32mif\u001b[0m \u001b[0mdata_handler\u001b[0m\u001b[0;34m.\u001b[0m\u001b[0mshould_sync\u001b[0m\u001b[0;34m:\u001b[0m\u001b[0;34m\u001b[0m\u001b[0;34m\u001b[0m\u001b[0m\n\u001b[1;32m   1411\u001b[0m                 \u001b[0mcontext\u001b[0m\u001b[0;34m.\u001b[0m\u001b[0masync_wait\u001b[0m\u001b[0;34m(\u001b[0m\u001b[0;34m)\u001b[0m\u001b[0;34m\u001b[0m\u001b[0;34m\u001b[0m\u001b[0m\n",
            "\u001b[0;32m/usr/local/lib/python3.7/dist-packages/tensorflow/python/util/traceback_utils.py\u001b[0m in \u001b[0;36merror_handler\u001b[0;34m(*args, **kwargs)\u001b[0m\n\u001b[1;32m    148\u001b[0m     \u001b[0mfiltered_tb\u001b[0m \u001b[0;34m=\u001b[0m \u001b[0;32mNone\u001b[0m\u001b[0;34m\u001b[0m\u001b[0;34m\u001b[0m\u001b[0m\n\u001b[1;32m    149\u001b[0m     \u001b[0;32mtry\u001b[0m\u001b[0;34m:\u001b[0m\u001b[0;34m\u001b[0m\u001b[0;34m\u001b[0m\u001b[0m\n\u001b[0;32m--> 150\u001b[0;31m       \u001b[0;32mreturn\u001b[0m \u001b[0mfn\u001b[0m\u001b[0;34m(\u001b[0m\u001b[0;34m*\u001b[0m\u001b[0margs\u001b[0m\u001b[0;34m,\u001b[0m \u001b[0;34m**\u001b[0m\u001b[0mkwargs\u001b[0m\u001b[0;34m)\u001b[0m\u001b[0;34m\u001b[0m\u001b[0;34m\u001b[0m\u001b[0m\n\u001b[0m\u001b[1;32m    151\u001b[0m     \u001b[0;32mexcept\u001b[0m \u001b[0mException\u001b[0m \u001b[0;32mas\u001b[0m \u001b[0me\u001b[0m\u001b[0;34m:\u001b[0m\u001b[0;34m\u001b[0m\u001b[0;34m\u001b[0m\u001b[0m\n\u001b[1;32m    152\u001b[0m       \u001b[0mfiltered_tb\u001b[0m \u001b[0;34m=\u001b[0m \u001b[0m_process_traceback_frames\u001b[0m\u001b[0;34m(\u001b[0m\u001b[0me\u001b[0m\u001b[0;34m.\u001b[0m\u001b[0m__traceback__\u001b[0m\u001b[0;34m)\u001b[0m\u001b[0;34m\u001b[0m\u001b[0;34m\u001b[0m\u001b[0m\n",
            "\u001b[0;32m/usr/local/lib/python3.7/dist-packages/tensorflow/python/eager/def_function.py\u001b[0m in \u001b[0;36m__call__\u001b[0;34m(self, *args, **kwds)\u001b[0m\n\u001b[1;32m    913\u001b[0m \u001b[0;34m\u001b[0m\u001b[0m\n\u001b[1;32m    914\u001b[0m       \u001b[0;32mwith\u001b[0m \u001b[0mOptionalXlaContext\u001b[0m\u001b[0;34m(\u001b[0m\u001b[0mself\u001b[0m\u001b[0;34m.\u001b[0m\u001b[0m_jit_compile\u001b[0m\u001b[0;34m)\u001b[0m\u001b[0;34m:\u001b[0m\u001b[0;34m\u001b[0m\u001b[0;34m\u001b[0m\u001b[0m\n\u001b[0;32m--> 915\u001b[0;31m         \u001b[0mresult\u001b[0m \u001b[0;34m=\u001b[0m \u001b[0mself\u001b[0m\u001b[0;34m.\u001b[0m\u001b[0m_call\u001b[0m\u001b[0;34m(\u001b[0m\u001b[0;34m*\u001b[0m\u001b[0margs\u001b[0m\u001b[0;34m,\u001b[0m \u001b[0;34m**\u001b[0m\u001b[0mkwds\u001b[0m\u001b[0;34m)\u001b[0m\u001b[0;34m\u001b[0m\u001b[0;34m\u001b[0m\u001b[0m\n\u001b[0m\u001b[1;32m    916\u001b[0m \u001b[0;34m\u001b[0m\u001b[0m\n\u001b[1;32m    917\u001b[0m       \u001b[0mnew_tracing_count\u001b[0m \u001b[0;34m=\u001b[0m \u001b[0mself\u001b[0m\u001b[0;34m.\u001b[0m\u001b[0mexperimental_get_tracing_count\u001b[0m\u001b[0;34m(\u001b[0m\u001b[0;34m)\u001b[0m\u001b[0;34m\u001b[0m\u001b[0;34m\u001b[0m\u001b[0m\n",
            "\u001b[0;32m/usr/local/lib/python3.7/dist-packages/tensorflow/python/eager/def_function.py\u001b[0m in \u001b[0;36m_call\u001b[0;34m(self, *args, **kwds)\u001b[0m\n\u001b[1;32m    945\u001b[0m       \u001b[0;31m# In this case we have created variables on the first call, so we run the\u001b[0m\u001b[0;34m\u001b[0m\u001b[0;34m\u001b[0m\u001b[0;34m\u001b[0m\u001b[0m\n\u001b[1;32m    946\u001b[0m       \u001b[0;31m# defunned version which is guaranteed to never create variables.\u001b[0m\u001b[0;34m\u001b[0m\u001b[0;34m\u001b[0m\u001b[0;34m\u001b[0m\u001b[0m\n\u001b[0;32m--> 947\u001b[0;31m       \u001b[0;32mreturn\u001b[0m \u001b[0mself\u001b[0m\u001b[0;34m.\u001b[0m\u001b[0m_stateless_fn\u001b[0m\u001b[0;34m(\u001b[0m\u001b[0;34m*\u001b[0m\u001b[0margs\u001b[0m\u001b[0;34m,\u001b[0m \u001b[0;34m**\u001b[0m\u001b[0mkwds\u001b[0m\u001b[0;34m)\u001b[0m  \u001b[0;31m# pylint: disable=not-callable\u001b[0m\u001b[0;34m\u001b[0m\u001b[0;34m\u001b[0m\u001b[0m\n\u001b[0m\u001b[1;32m    948\u001b[0m     \u001b[0;32melif\u001b[0m \u001b[0mself\u001b[0m\u001b[0;34m.\u001b[0m\u001b[0m_stateful_fn\u001b[0m \u001b[0;32mis\u001b[0m \u001b[0;32mnot\u001b[0m \u001b[0;32mNone\u001b[0m\u001b[0;34m:\u001b[0m\u001b[0;34m\u001b[0m\u001b[0;34m\u001b[0m\u001b[0m\n\u001b[1;32m    949\u001b[0m       \u001b[0;31m# Release the lock early so that multiple threads can perform the call\u001b[0m\u001b[0;34m\u001b[0m\u001b[0;34m\u001b[0m\u001b[0;34m\u001b[0m\u001b[0m\n",
            "\u001b[0;32m/usr/local/lib/python3.7/dist-packages/tensorflow/python/eager/function.py\u001b[0m in \u001b[0;36m__call__\u001b[0;34m(self, *args, **kwargs)\u001b[0m\n\u001b[1;32m   2452\u001b[0m        filtered_flat_args) = self._maybe_define_function(args, kwargs)\n\u001b[1;32m   2453\u001b[0m     return graph_function._call_flat(\n\u001b[0;32m-> 2454\u001b[0;31m         filtered_flat_args, captured_inputs=graph_function.captured_inputs)  # pylint: disable=protected-access\n\u001b[0m\u001b[1;32m   2455\u001b[0m \u001b[0;34m\u001b[0m\u001b[0m\n\u001b[1;32m   2456\u001b[0m   \u001b[0;34m@\u001b[0m\u001b[0mproperty\u001b[0m\u001b[0;34m\u001b[0m\u001b[0;34m\u001b[0m\u001b[0m\n",
            "\u001b[0;32m/usr/local/lib/python3.7/dist-packages/tensorflow/python/eager/function.py\u001b[0m in \u001b[0;36m_call_flat\u001b[0;34m(self, args, captured_inputs, cancellation_manager)\u001b[0m\n\u001b[1;32m   1859\u001b[0m       \u001b[0;31m# No tape is watching; skip to running the function.\u001b[0m\u001b[0;34m\u001b[0m\u001b[0;34m\u001b[0m\u001b[0;34m\u001b[0m\u001b[0m\n\u001b[1;32m   1860\u001b[0m       return self._build_call_outputs(self._inference_function.call(\n\u001b[0;32m-> 1861\u001b[0;31m           ctx, args, cancellation_manager=cancellation_manager))\n\u001b[0m\u001b[1;32m   1862\u001b[0m     forward_backward = self._select_forward_and_backward_functions(\n\u001b[1;32m   1863\u001b[0m         \u001b[0margs\u001b[0m\u001b[0;34m,\u001b[0m\u001b[0;34m\u001b[0m\u001b[0;34m\u001b[0m\u001b[0m\n",
            "\u001b[0;32m/usr/local/lib/python3.7/dist-packages/tensorflow/python/eager/function.py\u001b[0m in \u001b[0;36mcall\u001b[0;34m(self, ctx, args, cancellation_manager)\u001b[0m\n\u001b[1;32m    500\u001b[0m               \u001b[0minputs\u001b[0m\u001b[0;34m=\u001b[0m\u001b[0margs\u001b[0m\u001b[0;34m,\u001b[0m\u001b[0;34m\u001b[0m\u001b[0;34m\u001b[0m\u001b[0m\n\u001b[1;32m    501\u001b[0m               \u001b[0mattrs\u001b[0m\u001b[0;34m=\u001b[0m\u001b[0mattrs\u001b[0m\u001b[0;34m,\u001b[0m\u001b[0;34m\u001b[0m\u001b[0;34m\u001b[0m\u001b[0m\n\u001b[0;32m--> 502\u001b[0;31m               ctx=ctx)\n\u001b[0m\u001b[1;32m    503\u001b[0m         \u001b[0;32melse\u001b[0m\u001b[0;34m:\u001b[0m\u001b[0;34m\u001b[0m\u001b[0;34m\u001b[0m\u001b[0m\n\u001b[1;32m    504\u001b[0m           outputs = execute.execute_with_cancellation(\n",
            "\u001b[0;32m/usr/local/lib/python3.7/dist-packages/tensorflow/python/eager/execute.py\u001b[0m in \u001b[0;36mquick_execute\u001b[0;34m(op_name, num_outputs, inputs, attrs, ctx, name)\u001b[0m\n\u001b[1;32m     53\u001b[0m     \u001b[0mctx\u001b[0m\u001b[0;34m.\u001b[0m\u001b[0mensure_initialized\u001b[0m\u001b[0;34m(\u001b[0m\u001b[0;34m)\u001b[0m\u001b[0;34m\u001b[0m\u001b[0;34m\u001b[0m\u001b[0m\n\u001b[1;32m     54\u001b[0m     tensors = pywrap_tfe.TFE_Py_Execute(ctx._handle, device_name, op_name,\n\u001b[0;32m---> 55\u001b[0;31m                                         inputs, attrs, num_outputs)\n\u001b[0m\u001b[1;32m     56\u001b[0m   \u001b[0;32mexcept\u001b[0m \u001b[0mcore\u001b[0m\u001b[0;34m.\u001b[0m\u001b[0m_NotOkStatusException\u001b[0m \u001b[0;32mas\u001b[0m \u001b[0me\u001b[0m\u001b[0;34m:\u001b[0m\u001b[0;34m\u001b[0m\u001b[0;34m\u001b[0m\u001b[0m\n\u001b[1;32m     57\u001b[0m     \u001b[0;32mif\u001b[0m \u001b[0mname\u001b[0m \u001b[0;32mis\u001b[0m \u001b[0;32mnot\u001b[0m \u001b[0;32mNone\u001b[0m\u001b[0;34m:\u001b[0m\u001b[0;34m\u001b[0m\u001b[0;34m\u001b[0m\u001b[0m\n",
            "\u001b[0;31mKeyboardInterrupt\u001b[0m: "
          ]
        }
      ],
      "source": [
        "history_conv = conv_model.fit(X_dataset, Y_dataset, \n",
        "                              validation_split=VALIDATION_SPLIT, \n",
        "                              epochs=50, \n",
        "                              batch_size=16)"
      ]
    },
    {
      "cell_type": "code",
      "execution_count": 25,
      "metadata": {
        "colab": {
          "base_uri": "https://localhost:8080/",
          "height": 244
        },
        "id": "Fat4XAdfyNpx",
        "outputId": "cfd4c309-5fee-4ec5-9c82-823e0d792fc8"
      },
      "outputs": [
        {
          "output_type": "error",
          "ename": "NameError",
          "evalue": "ignored",
          "traceback": [
            "\u001b[0;31m---------------------------------------------------------------------------\u001b[0m",
            "\u001b[0;31mNameError\u001b[0m                                 Traceback (most recent call last)",
            "\u001b[0;32m<ipython-input-25-7864fdca968f>\u001b[0m in \u001b[0;36m<module>\u001b[0;34m\u001b[0m\n\u001b[0;32m----> 1\u001b[0;31m \u001b[0mplt\u001b[0m\u001b[0;34m.\u001b[0m\u001b[0mplot\u001b[0m\u001b[0;34m(\u001b[0m\u001b[0mhistory_conv\u001b[0m\u001b[0;34m.\u001b[0m\u001b[0mhistory\u001b[0m\u001b[0;34m[\u001b[0m\u001b[0;34m'loss'\u001b[0m\u001b[0;34m]\u001b[0m\u001b[0;34m)\u001b[0m\u001b[0;34m\u001b[0m\u001b[0;34m\u001b[0m\u001b[0m\n\u001b[0m\u001b[1;32m      2\u001b[0m \u001b[0mplt\u001b[0m\u001b[0;34m.\u001b[0m\u001b[0mplot\u001b[0m\u001b[0;34m(\u001b[0m\u001b[0mhistory_conv\u001b[0m\u001b[0;34m.\u001b[0m\u001b[0mhistory\u001b[0m\u001b[0;34m[\u001b[0m\u001b[0;34m'val_loss'\u001b[0m\u001b[0;34m]\u001b[0m\u001b[0;34m)\u001b[0m\u001b[0;34m\u001b[0m\u001b[0;34m\u001b[0m\u001b[0m\n\u001b[1;32m      3\u001b[0m \u001b[0mplt\u001b[0m\u001b[0;34m.\u001b[0m\u001b[0mtitle\u001b[0m\u001b[0;34m(\u001b[0m\u001b[0;34m'model loss'\u001b[0m\u001b[0;34m)\u001b[0m\u001b[0;34m\u001b[0m\u001b[0;34m\u001b[0m\u001b[0m\n\u001b[1;32m      4\u001b[0m \u001b[0mplt\u001b[0m\u001b[0;34m.\u001b[0m\u001b[0mylabel\u001b[0m\u001b[0;34m(\u001b[0m\u001b[0;34m'loss'\u001b[0m\u001b[0;34m)\u001b[0m\u001b[0;34m\u001b[0m\u001b[0;34m\u001b[0m\u001b[0m\n\u001b[1;32m      5\u001b[0m \u001b[0mplt\u001b[0m\u001b[0;34m.\u001b[0m\u001b[0mxlabel\u001b[0m\u001b[0;34m(\u001b[0m\u001b[0;34m'epoch'\u001b[0m\u001b[0;34m)\u001b[0m\u001b[0;34m\u001b[0m\u001b[0;34m\u001b[0m\u001b[0m\n",
            "\u001b[0;31mNameError\u001b[0m: name 'history_conv' is not defined"
          ]
        }
      ],
      "source": [
        "plt.plot(history_conv.history['loss'])\n",
        "plt.plot(history_conv.history['val_loss'])\n",
        "plt.title('model loss')\n",
        "plt.ylabel('loss')\n",
        "plt.xlabel('epoch')\n",
        "plt.legend(['train loss', 'val loss'], loc='upper left')\n",
        "plt.show()"
      ]
    },
    {
      "cell_type": "code",
      "execution_count": null,
      "metadata": {
        "id": "de5lHvl72CkQ"
      },
      "outputs": [],
      "source": [
        "plt.plot(history_conv.history['acc'])\n",
        "plt.plot(history_conv.history['val_acc'])\n",
        "plt.title('model accuracy')\n",
        "plt.ylabel('accuracy (%)')\n",
        "plt.xlabel('epoch')\n",
        "plt.legend(['train accuracy', 'val accuracy'], loc='upper left')\n",
        "plt.show()"
      ]
    },
    {
      "cell_type": "markdown",
      "metadata": {
        "id": "VRmZwOzAJ-Lv"
      },
      "source": [
        "## Predicting Letters"
      ]
    },
    {
      "cell_type": "code",
      "execution_count": null,
      "metadata": {
        "id": "qqENm-ZD2MP0"
      },
      "outputs": [],
      "source": [
        "# Display images in the training data set. \n",
        "def displayImage(index):\n",
        "  img = X_dataset[index]\n",
        "  # xpands image by one dimension\n",
        "  img_aug = np.expand_dims(img, axis=0)\n",
        "  # *not sure why we need to expand the img to predict\n",
        "  y_predict = conv_model.predict(img_aug)\n",
        "  \n",
        "  # display the image to predict\n",
        "  plt.imshow(img)  \n",
        "  \n",
        "  # print and compare input and predicted character along with confidence\n",
        "  caption = (\"Input: \" + str(allchars[np.argmax(Y_dataset[index])])\n",
        "                            + \"\\nPredicted: \" + str(allchars[np.argmax(y_predict)])\n",
        "                            + \"\\nConfidence: \" + str(np.amax(y_predict)) + \"\\n\") \n",
        "  \n",
        "  # text settings in plot\n",
        "  plt.text(0.5,0.5, caption, \n",
        "           color='orange', fontsize = 16,\n",
        "           horizontalalignment='left', verticalalignment='bottom')\n",
        "\n",
        "# slider for choosing character to recognize\n",
        "interact(displayImage, \n",
        "        index=ipywidgets.IntSlider(min=0, max=X_dataset_orig.shape[0],\n",
        "                                   step=1, value=10))\n"
      ]
    },
    {
      "cell_type": "markdown",
      "metadata": {
        "id": "Wh3l6HVOScwX"
      },
      "source": [
        "## Confusion Matrix"
      ]
    },
    {
      "cell_type": "code",
      "execution_count": null,
      "metadata": {
        "id": "IMdT939gSfVx"
      },
      "outputs": [],
      "source": [
        "#get set of all predictions using X_dataset\n",
        "predictions = conv_model.predict(X_dataset)"
      ]
    },
    {
      "cell_type": "code",
      "execution_count": null,
      "metadata": {
        "id": "8df897SmUMvu"
      },
      "outputs": [],
      "source": [
        "y_true = []\n",
        "y_pred = []\n",
        "\n",
        "# creates arrays of true chars and the predicted chars\n",
        "for i in range(len(Y_dataset)):\n",
        "  y_true.append(allchars[np.argmax(Y_dataset[i])])\n",
        "  y_pred.append(allchars[np.argmax(predictions[i])])\n",
        "\n",
        "# make the confusion matrix (i (rows): true, j (cols): predict)\n",
        "cm = confusion_matrix(y_true, y_pred)\n",
        "# dataframe for confusion matrix, (ie \"axis ticks\")\n",
        "df_cm = pd.DataFrame(cm, index = [i for i in allchars],\n",
        "                  columns = [i for i in allchars])\n",
        "plt.figure(figsize = (20,10))\n",
        "# plot heatmap of confusion matrix\n",
        "sn.heatmap(df_cm, annot=True)"
      ]
    },
    {
      "cell_type": "markdown",
      "source": [
        "## Save the model"
      ],
      "metadata": {
        "id": "XtToQqNeB7eM"
      }
    },
    {
      "cell_type": "code",
      "source": [
        "from google.colab import files\n",
        "\n",
        "# pickle_out = open('trained_model','wb')\n",
        "# pickle.dump(conv_model,pickle_out)\n",
        "# pickle_out.close()\n",
        "\n",
        "conv_model.save('model.h5')\n",
        "# !zip -r /content/file.zip /content/model\n",
        "# files.download(\"/content/file.zip\")"
      ],
      "metadata": {
        "id": "Gc0vMpI5B7Gz"
      },
      "execution_count": null,
      "outputs": []
    },
    {
      "cell_type": "code",
      "source": [
        "# !rm -r model"
      ],
      "metadata": {
        "id": "I3T_k1-8Uv8i"
      },
      "execution_count": null,
      "outputs": []
    },
    {
      "cell_type": "code",
      "source": [
        "print(tf.__version__)"
      ],
      "metadata": {
        "id": "iFHywq0NZML1"
      },
      "execution_count": null,
      "outputs": []
    },
    {
      "cell_type": "markdown",
      "source": [
        "## Test using saved model"
      ],
      "metadata": {
        "id": "HTGxr3_NDk0d"
      }
    }
  ],
  "metadata": {
    "accelerator": "GPU",
    "colab": {
      "provenance": [],
      "include_colab_link": true
    },
    "kernelspec": {
      "display_name": "Python 3",
      "name": "python3"
    },
    "gpuClass": "standard"
  },
  "nbformat": 4,
  "nbformat_minor": 0
}